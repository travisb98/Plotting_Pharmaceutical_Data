{
 "cells": [
  {
   "cell_type": "markdown",
   "metadata": {},
   "source": [
    "## Observations and Insights "
   ]
  },
  {
   "cell_type": "markdown",
   "metadata": {},
   "source": []
  },
  {
   "cell_type": "code",
   "execution_count": 642,
   "metadata": {},
   "outputs": [
    {
     "output_type": "execute_result",
     "data": {
      "text/plain": [
       "     Mouse ID  Timepoint  Tumor Volume (mm3)  Metastatic Sites Drug Regimen  \\\n",
       "0        b128          0           45.000000                 0    Capomulin   \n",
       "1        f932          0           45.000000                 0     Ketapril   \n",
       "2        g107          0           45.000000                 0     Ketapril   \n",
       "3        a457          0           45.000000                 0     Ketapril   \n",
       "4        c819          0           45.000000                 0     Ketapril   \n",
       "...       ...        ...                 ...               ...          ...   \n",
       "1888     r944         45           41.581521                 2    Capomulin   \n",
       "1889     u364         45           31.023923                 3    Capomulin   \n",
       "1890     p438         45           61.433892                 1     Ceftamin   \n",
       "1891     x773         45           58.634971                 4      Placebo   \n",
       "1892     b879         45           72.555239                 2     Stelasyn   \n",
       "\n",
       "         Sex  Age_months  Weight (g)  \n",
       "0     Female           9          22  \n",
       "1       Male          15          29  \n",
       "2     Female           2          29  \n",
       "3     Female          11          30  \n",
       "4       Male          21          25  \n",
       "...      ...         ...         ...  \n",
       "1888    Male          12          25  \n",
       "1889    Male          18          17  \n",
       "1890  Female          11          26  \n",
       "1891  Female          21          30  \n",
       "1892  Female           4          26  \n",
       "\n",
       "[1893 rows x 8 columns]"
      ],
      "text/html": "<div>\n<style scoped>\n    .dataframe tbody tr th:only-of-type {\n        vertical-align: middle;\n    }\n\n    .dataframe tbody tr th {\n        vertical-align: top;\n    }\n\n    .dataframe thead th {\n        text-align: right;\n    }\n</style>\n<table border=\"1\" class=\"dataframe\">\n  <thead>\n    <tr style=\"text-align: right;\">\n      <th></th>\n      <th>Mouse ID</th>\n      <th>Timepoint</th>\n      <th>Tumor Volume (mm3)</th>\n      <th>Metastatic Sites</th>\n      <th>Drug Regimen</th>\n      <th>Sex</th>\n      <th>Age_months</th>\n      <th>Weight (g)</th>\n    </tr>\n  </thead>\n  <tbody>\n    <tr>\n      <th>0</th>\n      <td>b128</td>\n      <td>0</td>\n      <td>45.000000</td>\n      <td>0</td>\n      <td>Capomulin</td>\n      <td>Female</td>\n      <td>9</td>\n      <td>22</td>\n    </tr>\n    <tr>\n      <th>1</th>\n      <td>f932</td>\n      <td>0</td>\n      <td>45.000000</td>\n      <td>0</td>\n      <td>Ketapril</td>\n      <td>Male</td>\n      <td>15</td>\n      <td>29</td>\n    </tr>\n    <tr>\n      <th>2</th>\n      <td>g107</td>\n      <td>0</td>\n      <td>45.000000</td>\n      <td>0</td>\n      <td>Ketapril</td>\n      <td>Female</td>\n      <td>2</td>\n      <td>29</td>\n    </tr>\n    <tr>\n      <th>3</th>\n      <td>a457</td>\n      <td>0</td>\n      <td>45.000000</td>\n      <td>0</td>\n      <td>Ketapril</td>\n      <td>Female</td>\n      <td>11</td>\n      <td>30</td>\n    </tr>\n    <tr>\n      <th>4</th>\n      <td>c819</td>\n      <td>0</td>\n      <td>45.000000</td>\n      <td>0</td>\n      <td>Ketapril</td>\n      <td>Male</td>\n      <td>21</td>\n      <td>25</td>\n    </tr>\n    <tr>\n      <th>...</th>\n      <td>...</td>\n      <td>...</td>\n      <td>...</td>\n      <td>...</td>\n      <td>...</td>\n      <td>...</td>\n      <td>...</td>\n      <td>...</td>\n    </tr>\n    <tr>\n      <th>1888</th>\n      <td>r944</td>\n      <td>45</td>\n      <td>41.581521</td>\n      <td>2</td>\n      <td>Capomulin</td>\n      <td>Male</td>\n      <td>12</td>\n      <td>25</td>\n    </tr>\n    <tr>\n      <th>1889</th>\n      <td>u364</td>\n      <td>45</td>\n      <td>31.023923</td>\n      <td>3</td>\n      <td>Capomulin</td>\n      <td>Male</td>\n      <td>18</td>\n      <td>17</td>\n    </tr>\n    <tr>\n      <th>1890</th>\n      <td>p438</td>\n      <td>45</td>\n      <td>61.433892</td>\n      <td>1</td>\n      <td>Ceftamin</td>\n      <td>Female</td>\n      <td>11</td>\n      <td>26</td>\n    </tr>\n    <tr>\n      <th>1891</th>\n      <td>x773</td>\n      <td>45</td>\n      <td>58.634971</td>\n      <td>4</td>\n      <td>Placebo</td>\n      <td>Female</td>\n      <td>21</td>\n      <td>30</td>\n    </tr>\n    <tr>\n      <th>1892</th>\n      <td>b879</td>\n      <td>45</td>\n      <td>72.555239</td>\n      <td>2</td>\n      <td>Stelasyn</td>\n      <td>Female</td>\n      <td>4</td>\n      <td>26</td>\n    </tr>\n  </tbody>\n</table>\n<p>1893 rows × 8 columns</p>\n</div>"
     },
     "metadata": {},
     "execution_count": 642
    }
   ],
   "source": [
    "# Dependencies and Setup\n",
    "import matplotlib.pyplot as plt\n",
    "import pandas as pd\n",
    "import scipy.stats as st\n",
    "\n",
    "# Study data files\n",
    "mouse_metadata_path = \"data/Mouse_metadata.csv\"\n",
    "study_results_path = \"data/Study_results.csv\"\n",
    "\n",
    "# Read the mouse data and the study results\n",
    "mouse_metadata = pd.read_csv(mouse_metadata_path)\n",
    "study_results = pd.read_csv(study_results_path)\n",
    "\n",
    "# Combine the data into a single dataset\n",
    "study_and_mouse_original=pd.merge(study_results,mouse_metadata,how=\"left\",on=\"Mouse ID\")\n",
    "\n",
    "# Display the data table for preview\n",
    "study_and_mouse_original\n",
    "\n"
   ]
  },
  {
   "cell_type": "code",
   "execution_count": 643,
   "metadata": {},
   "outputs": [
    {
     "output_type": "execute_result",
     "data": {
      "text/plain": [
       "249"
      ]
     },
     "metadata": {},
     "execution_count": 643
    }
   ],
   "source": [
    "# Checking the number of mice.\n",
    "number_of_mice = study_and_mouse_original['Mouse ID'].nunique()\n",
    "number_of_mice\n"
   ]
  },
  {
   "cell_type": "code",
   "execution_count": 644,
   "metadata": {},
   "outputs": [
    {
     "output_type": "execute_result",
     "data": {
      "text/plain": [
       "    Mouse ID  Timepoint  Tumor Volume (mm3)  Metastatic Sites Drug Regimen  \\\n",
       "137     g989          0                45.0                 0     Propriva   \n",
       "\n",
       "        Sex  Age_months  Weight (g)  \n",
       "137  Female          21          26  "
      ],
      "text/html": "<div>\n<style scoped>\n    .dataframe tbody tr th:only-of-type {\n        vertical-align: middle;\n    }\n\n    .dataframe tbody tr th {\n        vertical-align: top;\n    }\n\n    .dataframe thead th {\n        text-align: right;\n    }\n</style>\n<table border=\"1\" class=\"dataframe\">\n  <thead>\n    <tr style=\"text-align: right;\">\n      <th></th>\n      <th>Mouse ID</th>\n      <th>Timepoint</th>\n      <th>Tumor Volume (mm3)</th>\n      <th>Metastatic Sites</th>\n      <th>Drug Regimen</th>\n      <th>Sex</th>\n      <th>Age_months</th>\n      <th>Weight (g)</th>\n    </tr>\n  </thead>\n  <tbody>\n    <tr>\n      <th>137</th>\n      <td>g989</td>\n      <td>0</td>\n      <td>45.0</td>\n      <td>0</td>\n      <td>Propriva</td>\n      <td>Female</td>\n      <td>21</td>\n      <td>26</td>\n    </tr>\n  </tbody>\n</table>\n</div>"
     },
     "metadata": {},
     "execution_count": 644
    }
   ],
   "source": [
    "# Getting the duplicate mice by ID number that shows up for Mouse ID and Timepoint. \n",
    "duplicate_mice= study_and_mouse_original[study_and_mouse_original.duplicated()]\n",
    "duplicate_mice\n"
   ]
  },
  {
   "cell_type": "code",
   "execution_count": 645,
   "metadata": {},
   "outputs": [
    {
     "output_type": "execute_result",
     "data": {
      "text/plain": [
       "     Mouse ID  Timepoint  Tumor Volume (mm3)  Metastatic Sites Drug Regimen  \\\n",
       "0        b128          0           45.000000                 0    Capomulin   \n",
       "1        f932          0           45.000000                 0     Ketapril   \n",
       "2        g107          0           45.000000                 0     Ketapril   \n",
       "3        a457          0           45.000000                 0     Ketapril   \n",
       "4        c819          0           45.000000                 0     Ketapril   \n",
       "...       ...        ...                 ...               ...          ...   \n",
       "1888     r944         45           41.581521                 2    Capomulin   \n",
       "1889     u364         45           31.023923                 3    Capomulin   \n",
       "1890     p438         45           61.433892                 1     Ceftamin   \n",
       "1891     x773         45           58.634971                 4      Placebo   \n",
       "1892     b879         45           72.555239                 2     Stelasyn   \n",
       "\n",
       "         Sex  Age_months  Weight (g)  \n",
       "0     Female           9          22  \n",
       "1       Male          15          29  \n",
       "2     Female           2          29  \n",
       "3     Female          11          30  \n",
       "4       Male          21          25  \n",
       "...      ...         ...         ...  \n",
       "1888    Male          12          25  \n",
       "1889    Male          18          17  \n",
       "1890  Female          11          26  \n",
       "1891  Female          21          30  \n",
       "1892  Female           4          26  \n",
       "\n",
       "[1892 rows x 8 columns]"
      ],
      "text/html": "<div>\n<style scoped>\n    .dataframe tbody tr th:only-of-type {\n        vertical-align: middle;\n    }\n\n    .dataframe tbody tr th {\n        vertical-align: top;\n    }\n\n    .dataframe thead th {\n        text-align: right;\n    }\n</style>\n<table border=\"1\" class=\"dataframe\">\n  <thead>\n    <tr style=\"text-align: right;\">\n      <th></th>\n      <th>Mouse ID</th>\n      <th>Timepoint</th>\n      <th>Tumor Volume (mm3)</th>\n      <th>Metastatic Sites</th>\n      <th>Drug Regimen</th>\n      <th>Sex</th>\n      <th>Age_months</th>\n      <th>Weight (g)</th>\n    </tr>\n  </thead>\n  <tbody>\n    <tr>\n      <th>0</th>\n      <td>b128</td>\n      <td>0</td>\n      <td>45.000000</td>\n      <td>0</td>\n      <td>Capomulin</td>\n      <td>Female</td>\n      <td>9</td>\n      <td>22</td>\n    </tr>\n    <tr>\n      <th>1</th>\n      <td>f932</td>\n      <td>0</td>\n      <td>45.000000</td>\n      <td>0</td>\n      <td>Ketapril</td>\n      <td>Male</td>\n      <td>15</td>\n      <td>29</td>\n    </tr>\n    <tr>\n      <th>2</th>\n      <td>g107</td>\n      <td>0</td>\n      <td>45.000000</td>\n      <td>0</td>\n      <td>Ketapril</td>\n      <td>Female</td>\n      <td>2</td>\n      <td>29</td>\n    </tr>\n    <tr>\n      <th>3</th>\n      <td>a457</td>\n      <td>0</td>\n      <td>45.000000</td>\n      <td>0</td>\n      <td>Ketapril</td>\n      <td>Female</td>\n      <td>11</td>\n      <td>30</td>\n    </tr>\n    <tr>\n      <th>4</th>\n      <td>c819</td>\n      <td>0</td>\n      <td>45.000000</td>\n      <td>0</td>\n      <td>Ketapril</td>\n      <td>Male</td>\n      <td>21</td>\n      <td>25</td>\n    </tr>\n    <tr>\n      <th>...</th>\n      <td>...</td>\n      <td>...</td>\n      <td>...</td>\n      <td>...</td>\n      <td>...</td>\n      <td>...</td>\n      <td>...</td>\n      <td>...</td>\n    </tr>\n    <tr>\n      <th>1888</th>\n      <td>r944</td>\n      <td>45</td>\n      <td>41.581521</td>\n      <td>2</td>\n      <td>Capomulin</td>\n      <td>Male</td>\n      <td>12</td>\n      <td>25</td>\n    </tr>\n    <tr>\n      <th>1889</th>\n      <td>u364</td>\n      <td>45</td>\n      <td>31.023923</td>\n      <td>3</td>\n      <td>Capomulin</td>\n      <td>Male</td>\n      <td>18</td>\n      <td>17</td>\n    </tr>\n    <tr>\n      <th>1890</th>\n      <td>p438</td>\n      <td>45</td>\n      <td>61.433892</td>\n      <td>1</td>\n      <td>Ceftamin</td>\n      <td>Female</td>\n      <td>11</td>\n      <td>26</td>\n    </tr>\n    <tr>\n      <th>1891</th>\n      <td>x773</td>\n      <td>45</td>\n      <td>58.634971</td>\n      <td>4</td>\n      <td>Placebo</td>\n      <td>Female</td>\n      <td>21</td>\n      <td>30</td>\n    </tr>\n    <tr>\n      <th>1892</th>\n      <td>b879</td>\n      <td>45</td>\n      <td>72.555239</td>\n      <td>2</td>\n      <td>Stelasyn</td>\n      <td>Female</td>\n      <td>4</td>\n      <td>26</td>\n    </tr>\n  </tbody>\n</table>\n<p>1892 rows × 8 columns</p>\n</div>"
     },
     "metadata": {},
     "execution_count": 645
    }
   ],
   "source": [
    "# Create a clean DataFrame by dropping the duplicate mouse by its ID.\n",
    "study_and_mouse_working=study_and_mouse_original.drop_duplicates(keep=\"first\")\n",
    "study_and_mouse_working"
   ]
  },
  {
   "cell_type": "code",
   "execution_count": 646,
   "metadata": {},
   "outputs": [
    {
     "output_type": "execute_result",
     "data": {
      "text/plain": [
       "249"
      ]
     },
     "metadata": {},
     "execution_count": 646
    }
   ],
   "source": [
    "# Checking the number of mice in the clean DataFrame.\n",
    "study_and_mouse_working[\"Mouse ID\"].nunique()\n"
   ]
  },
  {
   "cell_type": "markdown",
   "metadata": {},
   "source": [
    "## Summary Statistics"
   ]
  },
  {
   "cell_type": "code",
   "execution_count": 647,
   "metadata": {},
   "outputs": [
    {
     "output_type": "execute_result",
     "data": {
      "text/plain": [
       "                      Capomulin Ketapril  Naftisol Infubinol  Stelasyn  \\\n",
       "Tumor Volume Mean       40.6757  55.2356   54.3316   52.8848   54.2331   \n",
       "Tumor Volume Median     41.5578  53.6987   52.5093   51.8206   52.4317   \n",
       "Tumor Volume Variance   24.9478  68.5536   66.1735   43.1287   59.4506   \n",
       "Tumor Volume StDev      4.99477  8.27971   8.13471   6.56724   7.71042   \n",
       "Tumor Volume SEM       0.329346  0.60386  0.596466  0.492236  0.573111   \n",
       "\n",
       "                       Ramicane  Propriva Zoniferol   Placebo  Ceftamin  \n",
       "Tumor Volume Mean       40.2167   52.3683   53.2365   54.0336   52.5912  \n",
       "Tumor Volume Median     40.6732     50.91   51.8185   52.2889   51.7762  \n",
       "Tumor Volume Variance   23.4867   42.2781   48.5334   61.1681   39.2902  \n",
       "Tumor Volume StDev      4.84631   6.50216   6.96659     7.821   6.26819  \n",
       "Tumor Volume SEM       0.320955  0.514041  0.516398  0.581331  0.469821  "
      ],
      "text/html": "<div>\n<style scoped>\n    .dataframe tbody tr th:only-of-type {\n        vertical-align: middle;\n    }\n\n    .dataframe tbody tr th {\n        vertical-align: top;\n    }\n\n    .dataframe thead th {\n        text-align: right;\n    }\n</style>\n<table border=\"1\" class=\"dataframe\">\n  <thead>\n    <tr style=\"text-align: right;\">\n      <th></th>\n      <th>Capomulin</th>\n      <th>Ketapril</th>\n      <th>Naftisol</th>\n      <th>Infubinol</th>\n      <th>Stelasyn</th>\n      <th>Ramicane</th>\n      <th>Propriva</th>\n      <th>Zoniferol</th>\n      <th>Placebo</th>\n      <th>Ceftamin</th>\n    </tr>\n  </thead>\n  <tbody>\n    <tr>\n      <th>Tumor Volume Mean</th>\n      <td>40.6757</td>\n      <td>55.2356</td>\n      <td>54.3316</td>\n      <td>52.8848</td>\n      <td>54.2331</td>\n      <td>40.2167</td>\n      <td>52.3683</td>\n      <td>53.2365</td>\n      <td>54.0336</td>\n      <td>52.5912</td>\n    </tr>\n    <tr>\n      <th>Tumor Volume Median</th>\n      <td>41.5578</td>\n      <td>53.6987</td>\n      <td>52.5093</td>\n      <td>51.8206</td>\n      <td>52.4317</td>\n      <td>40.6732</td>\n      <td>50.91</td>\n      <td>51.8185</td>\n      <td>52.2889</td>\n      <td>51.7762</td>\n    </tr>\n    <tr>\n      <th>Tumor Volume Variance</th>\n      <td>24.9478</td>\n      <td>68.5536</td>\n      <td>66.1735</td>\n      <td>43.1287</td>\n      <td>59.4506</td>\n      <td>23.4867</td>\n      <td>42.2781</td>\n      <td>48.5334</td>\n      <td>61.1681</td>\n      <td>39.2902</td>\n    </tr>\n    <tr>\n      <th>Tumor Volume StDev</th>\n      <td>4.99477</td>\n      <td>8.27971</td>\n      <td>8.13471</td>\n      <td>6.56724</td>\n      <td>7.71042</td>\n      <td>4.84631</td>\n      <td>6.50216</td>\n      <td>6.96659</td>\n      <td>7.821</td>\n      <td>6.26819</td>\n    </tr>\n    <tr>\n      <th>Tumor Volume SEM</th>\n      <td>0.329346</td>\n      <td>0.60386</td>\n      <td>0.596466</td>\n      <td>0.492236</td>\n      <td>0.573111</td>\n      <td>0.320955</td>\n      <td>0.514041</td>\n      <td>0.516398</td>\n      <td>0.581331</td>\n      <td>0.469821</td>\n    </tr>\n  </tbody>\n</table>\n</div>"
     },
     "metadata": {},
     "execution_count": 647
    }
   ],
   "source": [
    "# Generate a summary statistics table of mean, median, variance, standard deviation, and SEM of the tumor volume for each regimen\n",
    "# Use groupby and summary statistical methods to calculate the following properties of each drug regimen: \n",
    "# mean, median, variance, standard deviation, and SEM of the tumor volume. \n",
    "# Assemble the resulting series into a single summary dataframe.\n",
    "\n",
    "# #creates a unique list of the drug regimen, to be use for the series header in the summary df\n",
    "drug_list=study_and_mouse_working['Drug Regimen'].drop_duplicates().reset_index(drop=True).tolist().copy()\n",
    "\n",
    "#list of row labels for the dataframe\n",
    "stats_labels=[\"Tumor Volume Mean\",\"Tumor Volume Median\",\"Tumor Volume Variance\",\"Tumor Volume StDev\",\"Tumor Volume SEM\"]\n",
    "\n",
    "#creates a blank dataframe from the drug list and stats labels\n",
    "drug_summary_df=pd.DataFrame(columns=drug_list,index=stats_labels)\n",
    "\n",
    "#measures the length of each list, used in for loop\n",
    "stats_len=len(stats_labels)\n",
    "drug_len=len(drug_list)\n",
    "\n",
    "#this loops through then entire empty data_frame and calculates values depending on the row index and column header\n",
    "for x in range(stats_len):\n",
    "    for y in range(drug_len):\n",
    "        if drug_summary_df.index[x] == stats_labels[0]:\n",
    "            current_drug=study_and_mouse_working.loc[study_and_mouse_working['Drug Regimen']==drug_summary_df.columns[y],'Tumor Volume (mm3)'].mean()\n",
    "            drug_summary_df.iloc[x,y]=current_drug\n",
    "        elif drug_summary_df.index[x] == stats_labels[1]:\n",
    "            current_drug=study_and_mouse_working.loc[study_and_mouse_working['Drug Regimen']==drug_summary_df.columns[y],'Tumor Volume (mm3)'].median()\n",
    "            drug_summary_df.iloc[x,y]=current_drug\n",
    "        elif drug_summary_df.index[x] == stats_labels[2]:\n",
    "            current_drug=study_and_mouse_working.loc[study_and_mouse_working['Drug Regimen']==drug_summary_df.columns[y],'Tumor Volume (mm3)'].var()\n",
    "            drug_summary_df.iloc[x,y]=current_drug\n",
    "        elif drug_summary_df.index[x] == stats_labels[3]:\n",
    "            current_drug=study_and_mouse_working.loc[study_and_mouse_working['Drug Regimen']==drug_summary_df.columns[y],'Tumor Volume (mm3)'].std()\n",
    "            drug_summary_df.iloc[x,y]=current_drug\n",
    "        elif drug_summary_df.index[x] == stats_labels[4]:\n",
    "            current_drug=study_and_mouse_working.loc[study_and_mouse_working['Drug Regimen']==drug_summary_df.columns[y],'Tumor Volume (mm3)'].sem()\n",
    "            drug_summary_df.iloc[x,y]=current_drug\n",
    "\n",
    "drug_summary_df\n",
    "\n",
    "\n",
    "\n"
   ]
  },
  {
   "cell_type": "code",
   "execution_count": 648,
   "metadata": {},
   "outputs": [],
   "source": [
    "# Generate a summary statistics table of mean, median, variance, standard deviation, and SEM of the tumor volume for each regimen\n",
    "\n",
    "# Using the aggregation method, produce the same summary statistics in a single line\n"
   ]
  },
  {
   "cell_type": "markdown",
   "metadata": {},
   "source": [
    "## Bar and Pie Charts"
   ]
  },
  {
   "cell_type": "code",
   "execution_count": 649,
   "metadata": {},
   "outputs": [],
   "source": [
    "# Generate a bar plot showing the total number of unique mice tested on each drug regimen using pandas.\n",
    "\n"
   ]
  },
  {
   "cell_type": "code",
   "execution_count": 650,
   "metadata": {},
   "outputs": [],
   "source": [
    "# Generate a bar plot showing the total number of unique mice tested on each drug regimen using pyplot.\n",
    "\n"
   ]
  },
  {
   "cell_type": "code",
   "execution_count": 651,
   "metadata": {},
   "outputs": [],
   "source": [
    "# Generate a pie plot showing the distribution of female versus male mice using pandas\n",
    "\n"
   ]
  },
  {
   "cell_type": "code",
   "execution_count": 652,
   "metadata": {},
   "outputs": [],
   "source": [
    "# Generate a pie plot showing the distribution of female versus male mice using pyplot\n",
    "\n"
   ]
  },
  {
   "cell_type": "markdown",
   "metadata": {},
   "source": [
    "## Quartiles, Outliers and Boxplots"
   ]
  },
  {
   "cell_type": "code",
   "execution_count": 653,
   "metadata": {},
   "outputs": [],
   "source": [
    "# Calculate the final tumor volume of each mouse across four of the treatment regimens:  \n",
    "# Capomulin, Ramicane, Infubinol, and Ceftamin\n",
    "\n",
    "# Start by getting the last (greatest) timepoint for each mouse\n",
    "\n",
    "\n",
    "# Merge this group df with the original dataframe to get the tumor volume at the last timepoint\n"
   ]
  },
  {
   "cell_type": "code",
   "execution_count": 654,
   "metadata": {},
   "outputs": [],
   "source": [
    "# Put treatments into a list for for loop (and later for plot labels)\n",
    "\n",
    "\n",
    "# Create empty list to fill with tumor vol data (for plotting)\n",
    "\n",
    "\n",
    "# Calculate the IQR and quantitatively determine if there are any potential outliers. \n",
    "\n",
    "    \n",
    "    # Locate the rows which contain mice on each drug and get the tumor volumes\n",
    "    \n",
    "    \n",
    "    # add subset \n",
    "    \n",
    "    \n",
    "    # Determine outliers using upper and lower bounds\n",
    "    "
   ]
  },
  {
   "cell_type": "code",
   "execution_count": 655,
   "metadata": {},
   "outputs": [],
   "source": [
    "# Generate a box plot of the final tumor volume of each mouse across four regimens of interest\n"
   ]
  },
  {
   "cell_type": "markdown",
   "metadata": {},
   "source": [
    "## Line and Scatter Plots"
   ]
  },
  {
   "cell_type": "code",
   "execution_count": 656,
   "metadata": {},
   "outputs": [],
   "source": [
    "# Generate a line plot of tumor volume vs. time point for a mouse treated with Capomulin\n"
   ]
  },
  {
   "cell_type": "code",
   "execution_count": 657,
   "metadata": {},
   "outputs": [],
   "source": [
    "# Generate a scatter plot of average tumor volume vs. mouse weight for the Capomulin regimen\n"
   ]
  },
  {
   "cell_type": "markdown",
   "metadata": {},
   "source": [
    "## Correlation and Regression"
   ]
  },
  {
   "cell_type": "code",
   "execution_count": 658,
   "metadata": {},
   "outputs": [],
   "source": [
    "# Calculate the correlation coefficient and linear regression model \n",
    "# for mouse weight and average tumor volume for the Capomulin regimen\n"
   ]
  },
  {
   "cell_type": "code",
   "execution_count": null,
   "metadata": {},
   "outputs": [],
   "source": []
  }
 ],
 "metadata": {
  "anaconda-cloud": {},
  "kernelspec": {
   "name": "Python 3.6.10 64-bit ('PythonData': conda)",
   "display_name": "Python 3.6.10 64-bit ('PythonData': conda)",
   "metadata": {
    "interpreter": {
     "hash": "7e7c916c673641125590bd307b68bb4342787996dc085909d7e5c72ee4d13010"
    }
   }
  },
  "language_info": {
   "codemirror_mode": {
    "name": "ipython",
    "version": 3
   },
   "file_extension": ".py",
   "mimetype": "text/x-python",
   "name": "python",
   "nbconvert_exporter": "python",
   "pygments_lexer": "ipython3",
   "version": "3.6.10-final"
  }
 },
 "nbformat": 4,
 "nbformat_minor": 4
}